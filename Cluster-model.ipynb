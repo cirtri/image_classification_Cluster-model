{
 "cells": [
  {
   "cell_type": "code",
   "execution_count": 1,
   "id": "b78807f5",
   "metadata": {},
   "outputs": [],
   "source": [
    "import tensorflow as tf\n",
    "from tensorflow import keras\n",
    "import pandas as pd\n",
    "import numpy as np"
   ]
  },
  {
   "cell_type": "code",
   "execution_count": 14,
   "id": "0fcab0e5",
   "metadata": {},
   "outputs": [
    {
     "name": "stdout",
     "output_type": "stream",
     "text": [
      "          x         y  color\n",
      "0  0.129270  1.979720      0\n",
      "1 -0.380831  1.693519      0\n",
      "2  0.718693  1.791793      0\n",
      "3  0.722922  0.620655      0\n",
      "4 -0.432689  0.541550      0\n"
     ]
    }
   ],
   "source": [
    "train_df = pd.read_csv('./train_cluster.csv')\n",
    "color_dict = {'red':0,'blue':1,'green':2,'teal':3,'orange':4,'purple':5}\n",
    "train_df['color'] = train_df.color.apply(lambda x:color_dict[x])\n",
    "print(train_df.head())\n",
    "np.random.shuffle(train_df.values)"
   ]
  },
  {
   "cell_type": "code",
   "execution_count": 15,
   "id": "8a7c0ac2",
   "metadata": {},
   "outputs": [
    {
     "name": "stdout",
     "output_type": "stream",
     "text": [
      "Epoch 1/15\n"
     ]
    },
    {
     "name": "stderr",
     "output_type": "stream",
     "text": [
      "C:\\Users\\rugve\\anaconda3\\lib\\site-packages\\keras\\backend.py:5585: UserWarning: \"`sparse_categorical_crossentropy` received `from_logits=True`, but the `output` argument was produced by a Softmax activation and thus does not represent logits. Was this intended?\n",
      "  output, from_logits = _get_logits(\n"
     ]
    },
    {
     "name": "stdout",
     "output_type": "stream",
     "text": [
      "375/375 [==============================] - 1s 1ms/step - loss: 0.9839 - accuracy: 0.6303\n",
      "Epoch 2/15\n",
      "375/375 [==============================] - 0s 1ms/step - loss: 0.3344 - accuracy: 0.9073\n",
      "Epoch 3/15\n",
      "375/375 [==============================] - 0s 1ms/step - loss: 0.1976 - accuracy: 0.9517\n",
      "Epoch 4/15\n",
      "375/375 [==============================] - 0s 1ms/step - loss: 0.1509 - accuracy: 0.9592\n",
      "Epoch 5/15\n",
      "375/375 [==============================] - 0s 1ms/step - loss: 0.1232 - accuracy: 0.9695\n",
      "Epoch 6/15\n",
      "375/375 [==============================] - 0s 1ms/step - loss: 0.1125 - accuracy: 0.9692\n",
      "Epoch 7/15\n",
      "375/375 [==============================] - 0s 1ms/step - loss: 0.0973 - accuracy: 0.9758\n",
      "Epoch 8/15\n",
      "375/375 [==============================] - 0s 1ms/step - loss: 0.0907 - accuracy: 0.9742\n",
      "Epoch 9/15\n",
      "375/375 [==============================] - 0s 1ms/step - loss: 0.0851 - accuracy: 0.9770\n",
      "Epoch 10/15\n",
      "375/375 [==============================] - 0s 1ms/step - loss: 0.0804 - accuracy: 0.9743\n",
      "Epoch 11/15\n",
      "375/375 [==============================] - 0s 1ms/step - loss: 0.0746 - accuracy: 0.9790\n",
      "Epoch 12/15\n",
      "375/375 [==============================] - 0s 1ms/step - loss: 0.0756 - accuracy: 0.9768\n",
      "Epoch 13/15\n",
      "375/375 [==============================] - 0s 1ms/step - loss: 0.0676 - accuracy: 0.9787\n",
      "Epoch 14/15\n",
      "375/375 [==============================] - 0s 1ms/step - loss: 0.0645 - accuracy: 0.9825\n",
      "Epoch 15/15\n",
      "375/375 [==============================] - 0s 1ms/step - loss: 0.0649 - accuracy: 0.9802\n"
     ]
    },
    {
     "data": {
      "text/plain": [
       "<keras.callbacks.History at 0x257a23d19d0>"
      ]
     },
     "execution_count": 15,
     "metadata": {},
     "output_type": "execute_result"
    }
   ],
   "source": [
    "model = keras.Sequential([\n",
    "    keras.layers.Dense(32,input_shape=(2,),activation='relu'),\n",
    "    keras.layers.Dense(32,activation='relu'),\n",
    "    keras.layers.Dense(6,activation='sigmoid')\n",
    "])\n",
    "\n",
    "model.compile(optimizer='adam',\n",
    "              loss=keras.losses.SparseCategoricalCrossentropy(from_logits=True),\n",
    "              metrics=['accuracy']\n",
    ")\n",
    "\n",
    "x=np.column_stack((train_df.x.values,train_df.y.values))\n",
    "\n",
    "model.fit(x,train_df.color.values,batch_size=16,epochs=15)"
   ]
  },
  {
   "cell_type": "code",
   "execution_count": 17,
   "id": "1e817397",
   "metadata": {},
   "outputs": [
    {
     "name": "stdout",
     "output_type": "stream",
     "text": [
      "38/38 [==============================] - 0s 1ms/step - loss: 0.0588 - accuracy: 0.9858\n"
     ]
    },
    {
     "name": "stderr",
     "output_type": "stream",
     "text": [
      "C:\\Users\\rugve\\anaconda3\\lib\\site-packages\\keras\\backend.py:5585: UserWarning: \"`sparse_categorical_crossentropy` received `from_logits=True`, but the `output` argument was produced by a Softmax activation and thus does not represent logits. Was this intended?\n",
      "  output, from_logits = _get_logits(\n"
     ]
    },
    {
     "data": {
      "text/plain": [
       "[0.058838486671447754, 0.9858333468437195]"
      ]
     },
     "execution_count": 17,
     "metadata": {},
     "output_type": "execute_result"
    }
   ],
   "source": [
    "test_df = pd.read_csv('./test_cluster.csv')\n",
    "test_df['color'] = test_df.color.apply(lambda x:color_dict[x])\n",
    "test_x = np.column_stack((test_df.x.values,test_df.y.values))\n",
    "\n",
    "model.evaluate(test_x,test_df.color.values)"
   ]
  },
  {
   "cell_type": "code",
   "execution_count": null,
   "id": "7c50d80a",
   "metadata": {},
   "outputs": [],
   "source": []
  }
 ],
 "metadata": {
  "kernelspec": {
   "display_name": "Python 3 (ipykernel)",
   "language": "python",
   "name": "python3"
  },
  "language_info": {
   "codemirror_mode": {
    "name": "ipython",
    "version": 3
   },
   "file_extension": ".py",
   "mimetype": "text/x-python",
   "name": "python",
   "nbconvert_exporter": "python",
   "pygments_lexer": "ipython3",
   "version": "3.9.13"
  }
 },
 "nbformat": 4,
 "nbformat_minor": 5
}
